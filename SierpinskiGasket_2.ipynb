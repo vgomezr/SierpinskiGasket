{
 "cells": [
  {
   "cell_type": "code",
   "execution_count": 1,
   "metadata": {},
   "outputs": [],
   "source": [
    "import numpy as np\n",
    "import matplotlib.pyplot as plt\n",
    "import numba\n",
    "import itertools\n",
    "from numba import njit\n",
    "from sklearn.linear_model import LinearRegression\n",
    "from scipy.ndimage import convolve, generate_binary_structure\n",
    "from collections import deque"
   ]
  },
  {
   "cell_type": "markdown",
   "metadata": {},
   "source": [
    "# Fractal structure"
   ]
  },
  {
   "cell_type": "code",
   "execution_count": 2,
   "metadata": {},
   "outputs": [],
   "source": [
    "#Auxiliary functions\n",
    "def connect_vertices(vertices, neighbors):\n",
    "    combinaciones= list(itertools.combinations(vertices, 2))\n",
    "    for c in combinaciones:\n",
    "        if c[1] not in neighbors[c[0]]:\n",
    "            neighbors[c[0]].append(c[1])\n",
    "        if c[0] not in  neighbors[c[1]]:\n",
    "            neighbors[c[1]].append(c[0])"
   ]
  },
  {
   "cell_type": "code",
   "execution_count": 3,
   "metadata": {},
   "outputs": [],
   "source": [
    "def Triangle_Structure(num_iterations):\n",
    "\n",
    "    # Initial triangle neighbors\n",
    "    \n",
    "    neighbors = {0: [1, 2], 1: [0, 2], 2: [0, 1]} \n",
    "    \n",
    "    # Initial triangle vertices\n",
    "    vertices= [0,1,2]\n",
    "    \n",
    "    n_vertices_it= [1, 3, 6, 15, 42, 123, 366, 1095]\n",
    "\n",
    "    for i in range(num_iterations):\n",
    "\n",
    "        new_neighbors = {}\n",
    "\n",
    "        for key, value in neighbors.items():\n",
    "\n",
    "            #Me aseguro de no contar doble\n",
    "            if key < n_vertices_it[i]:\n",
    "                \n",
    "                #sub_tr será una lista con los vértices de cada subtriángulo \n",
    "                sub_tr= value\n",
    "                sub_tr.sort()\n",
    "                \n",
    "                #Cada vértice solo puede tener 2 o 4 vecinos.\n",
    "                #Es decir, hace parte de uno o dos subtriángulos.\n",
    "                \n",
    "                if len(sub_tr) > 2:\n",
    "                    half = len(sub_tr) // 2\n",
    "                    combination = [sub_tr[:half], sub_tr[half:]]\n",
    "                    sub_tr= combination\n",
    "                else:\n",
    "                    sub_tr = [sub_tr]\n",
    "                for c_ in sub_tr:\n",
    "                    new_vertices= []\n",
    "                    c_.insert(0, key)\n",
    "                    # ej: c_=[0,1,2] \n",
    "                    \n",
    "                    combinations = list(itertools.combinations(c_, 2))\n",
    "                    #Combinatios es una lista de cada arista del triangulo\n",
    "                    #ej: [[0,1],[0,2][1,2]]\n",
    "                    for c in combinations:\n",
    "                        #Creación nuevo vértice\n",
    "                        midpoint = len(vertices) \n",
    "                        if midpoint not in vertices:\n",
    "                            vertices.append(midpoint)\n",
    "                            new_vertices.append(midpoint)\n",
    "\n",
    "                            if midpoint not in new_neighbors:\n",
    "                                new_neighbors[midpoint] = []\n",
    "                            new_neighbors[midpoint].append(c[0])\n",
    "                            new_neighbors[midpoint].append(c[1])\n",
    "\n",
    "                            if c[0] not in new_neighbors:\n",
    "                                new_neighbors[c[0]] = []\n",
    "                            new_neighbors[c[0]].append(midpoint)\n",
    "\n",
    "                            if c[1] not in new_neighbors:\n",
    "                                new_neighbors[c[1]] = []\n",
    "                            new_neighbors[c[1]].append(midpoint)\n",
    "                    #Creo los enlaces entre \n",
    "                    connect_vertices(new_vertices, new_neighbors)\n",
    "\n",
    "        neighbors.update(new_neighbors)\n",
    "    return neighbors"
   ]
  },
  {
   "cell_type": "code",
   "execution_count": 4,
   "metadata": {},
   "outputs": [
    {
     "data": {
      "text/plain": [
       "{0: [42, 43],\n",
       " 1: [45, 46],\n",
       " 2: [48, 49],\n",
       " 3: [51, 52, 54, 55],\n",
       " 4: [57, 58, 60, 61],\n",
       " 5: [63, 64, 66, 67],\n",
       " 6: [69, 70, 72, 73],\n",
       " 7: [75, 76, 78, 79],\n",
       " 8: [81, 82, 84, 85],\n",
       " 9: [87, 88, 90, 91],\n",
       " 10: [93, 94, 96, 97],\n",
       " 11: [99, 100, 102, 103],\n",
       " 12: [105, 106, 108, 109],\n",
       " 13: [111, 112, 114, 115],\n",
       " 14: [117, 118, 120, 121],\n",
       " 15: [42, 44, 69, 71],\n",
       " 16: [43, 44, 75, 77],\n",
       " 17: [70, 71, 76, 77],\n",
       " 18: [45, 47, 87, 89],\n",
       " 19: [46, 47, 93, 95],\n",
       " 20: [88, 89, 94, 95],\n",
       " 21: [48, 50, 105, 107],\n",
       " 22: [49, 50, 111, 113],\n",
       " 23: [106, 107, 112, 113],\n",
       " 24: [51, 53, 72, 74],\n",
       " 25: [52, 53, 81, 83],\n",
       " 26: [73, 74, 82, 83],\n",
       " 27: [54, 56, 90, 92],\n",
       " 28: [55, 56, 99, 101],\n",
       " 29: [91, 92, 100, 101],\n",
       " 30: [57, 59, 78, 80],\n",
       " 31: [58, 59, 84, 86],\n",
       " 32: [79, 80, 85, 86],\n",
       " 33: [60, 62, 108, 110],\n",
       " 34: [61, 62, 117, 119],\n",
       " 35: [109, 110, 118, 119],\n",
       " 36: [63, 65, 96, 98],\n",
       " 37: [64, 65, 102, 104],\n",
       " 38: [97, 98, 103, 104],\n",
       " 39: [66, 68, 114, 116],\n",
       " 40: [67, 68, 120, 122],\n",
       " 41: [115, 116, 121, 122],\n",
       " 42: [0, 15, 43, 44],\n",
       " 43: [0, 16, 42, 44],\n",
       " 44: [15, 16, 42, 43],\n",
       " 45: [1, 18, 46, 47],\n",
       " 46: [1, 19, 45, 47],\n",
       " 47: [18, 19, 45, 46],\n",
       " 48: [2, 21, 49, 50],\n",
       " 49: [2, 22, 48, 50],\n",
       " 50: [21, 22, 48, 49],\n",
       " 51: [3, 24, 52, 53],\n",
       " 52: [3, 25, 51, 53],\n",
       " 53: [24, 25, 51, 52],\n",
       " 54: [3, 27, 55, 56],\n",
       " 55: [3, 28, 54, 56],\n",
       " 56: [27, 28, 54, 55],\n",
       " 57: [4, 30, 58, 59],\n",
       " 58: [4, 31, 57, 59],\n",
       " 59: [30, 31, 57, 58],\n",
       " 60: [4, 33, 61, 62],\n",
       " 61: [4, 34, 60, 62],\n",
       " 62: [33, 34, 60, 61],\n",
       " 63: [5, 36, 64, 65],\n",
       " 64: [5, 37, 63, 65],\n",
       " 65: [36, 37, 63, 64],\n",
       " 66: [5, 39, 67, 68],\n",
       " 67: [5, 40, 66, 68],\n",
       " 68: [39, 40, 66, 67],\n",
       " 69: [6, 15, 70, 71],\n",
       " 70: [6, 17, 69, 71],\n",
       " 71: [15, 17, 69, 70],\n",
       " 72: [6, 24, 73, 74],\n",
       " 73: [6, 26, 72, 74],\n",
       " 74: [24, 26, 72, 73],\n",
       " 75: [7, 16, 76, 77],\n",
       " 76: [7, 17, 75, 77],\n",
       " 77: [16, 17, 75, 76],\n",
       " 78: [7, 30, 79, 80],\n",
       " 79: [7, 32, 78, 80],\n",
       " 80: [30, 32, 78, 79],\n",
       " 81: [8, 25, 82, 83],\n",
       " 82: [8, 26, 81, 83],\n",
       " 83: [25, 26, 81, 82],\n",
       " 84: [8, 31, 85, 86],\n",
       " 85: [8, 32, 84, 86],\n",
       " 86: [31, 32, 84, 85],\n",
       " 87: [9, 18, 88, 89],\n",
       " 88: [9, 20, 87, 89],\n",
       " 89: [18, 20, 87, 88],\n",
       " 90: [9, 27, 91, 92],\n",
       " 91: [9, 29, 90, 92],\n",
       " 92: [27, 29, 90, 91],\n",
       " 93: [10, 19, 94, 95],\n",
       " 94: [10, 20, 93, 95],\n",
       " 95: [19, 20, 93, 94],\n",
       " 96: [10, 36, 97, 98],\n",
       " 97: [10, 38, 96, 98],\n",
       " 98: [36, 38, 96, 97],\n",
       " 99: [11, 28, 100, 101],\n",
       " 100: [11, 29, 99, 101],\n",
       " 101: [28, 29, 99, 100],\n",
       " 102: [11, 37, 103, 104],\n",
       " 103: [11, 38, 102, 104],\n",
       " 104: [37, 38, 102, 103],\n",
       " 105: [12, 21, 106, 107],\n",
       " 106: [12, 23, 105, 107],\n",
       " 107: [21, 23, 105, 106],\n",
       " 108: [12, 33, 109, 110],\n",
       " 109: [12, 35, 108, 110],\n",
       " 110: [33, 35, 108, 109],\n",
       " 111: [13, 22, 112, 113],\n",
       " 112: [13, 23, 111, 113],\n",
       " 113: [22, 23, 111, 112],\n",
       " 114: [13, 39, 115, 116],\n",
       " 115: [13, 41, 114, 116],\n",
       " 116: [39, 41, 114, 115],\n",
       " 117: [14, 34, 118, 119],\n",
       " 118: [14, 35, 117, 119],\n",
       " 119: [34, 35, 117, 118],\n",
       " 120: [14, 40, 121, 122],\n",
       " 121: [14, 41, 120, 122],\n",
       " 122: [40, 41, 120, 121]}"
      ]
     },
     "execution_count": 4,
     "metadata": {},
     "output_type": "execute_result"
    }
   ],
   "source": [
    "neighbors= Triangle_Structure(4)\n",
    "neighbors"
   ]
  },
  {
   "cell_type": "code",
   "execution_count": 5,
   "metadata": {},
   "outputs": [
    {
     "data": {
      "text/plain": [
       "123"
      ]
     },
     "execution_count": 5,
     "metadata": {},
     "output_type": "execute_result"
    }
   ],
   "source": [
    "N=len(neighbors)\n",
    "#Neighbors es un diccionario donde la llave corresponde al índice del spin,\n",
    "#y el valor a una lista con los índices de sus vecinos.\n",
    "N"
   ]
  },
  {
   "cell_type": "markdown",
   "metadata": {},
   "source": [
    "# Spin assignation"
   ]
  },
  {
   "cell_type": "code",
   "execution_count": 6,
   "metadata": {},
   "outputs": [],
   "source": [
    "init_random = np.random.random(N)\n",
    "\n",
    "init_random[init_random >= 0.5]= 1\n",
    "init_random[init_random <= 0.5]= -1\n",
    "\n",
    "spins= init_random"
   ]
  },
  {
   "cell_type": "code",
   "execution_count": 7,
   "metadata": {},
   "outputs": [],
   "source": [
    "def get_total_energy(neighbors, spins):\n",
    "    total=0\n",
    "    for key in neighbors:\n",
    "        for j in neighbors[key]:\n",
    "            total+= spins[key]*spins[j]\n",
    "        \n",
    "    return -total"
   ]
  },
  {
   "cell_type": "code",
   "execution_count": 8,
   "metadata": {},
   "outputs": [
    {
     "data": {
      "text/plain": [
       "-30.0"
      ]
     },
     "execution_count": 8,
     "metadata": {},
     "output_type": "execute_result"
    }
   ],
   "source": [
    "get_total_energy(neighbors, spins)"
   ]
  },
  {
   "cell_type": "code",
   "execution_count": 9,
   "metadata": {},
   "outputs": [],
   "source": [
    "#Cambio en la energía al voltear un spin\n",
    "\n",
    "def get_energy_change(neighbors, spins, spin):\n",
    "    l_neighbors= neighbors[spin]\n",
    "    sum_=0\n",
    "    for i in l_neighbors:\n",
    "        sum_+= spins[i]*spins[spin]\n",
    "        \n",
    "    return sum_"
   ]
  },
  {
   "cell_type": "code",
   "execution_count": 10,
   "metadata": {},
   "outputs": [],
   "source": [
    "def metropolis(neighbors, spins, times, BJ, energy):\n",
    "    \n",
    "    net_spins = np.zeros(times-1)\n",
    "    net_energy = np.zeros(times-1)\n",
    "    \n",
    "    #Correlaciones\n",
    "    corr= np.zeros((times-1, N))\n",
    "    \n",
    "    for t in range(0,times-1):\n",
    "        c_spins = spins.copy()\n",
    "        #Escoger un punto aleatorio y voltear el spin.\n",
    "        x = np.random.randint(0,N)\n",
    "        spin_f= spins[x]*-1\n",
    "        c_spins[x]= spin_f #proposed spin flip\n",
    "        \n",
    "        # Calcular cambio en energía\n",
    "        E_i = get_energy_change(neighbors, spins, x)\n",
    "        E_f = get_energy_change(neighbors, c_spins, x)\n",
    "        \n",
    "        \n",
    "        # 3 / 4. Cambiar el estado de acuerdo a las probabilidades\n",
    "        \n",
    "        dE = E_f-E_i\n",
    "        if (dE>0)*(np.random.random() < np.exp(-BJ*dE)):\n",
    "            spins[x]= spin_f\n",
    "            energy += dE\n",
    "        elif dE<=0:\n",
    "            spins[x]= spin_f\n",
    "            energy += dE\n",
    "            \n",
    "       \n",
    "        corr[t]= spins\n",
    "        net_spins[t] = spins.sum()\n",
    "        net_energy[t] = energy\n",
    "        \n",
    "    return net_spins, net_energy, corr"
   ]
  },
  {
   "cell_type": "code",
   "execution_count": 11,
   "metadata": {},
   "outputs": [],
   "source": [
    "spins_, energies, corr = metropolis(neighbors, spins, 100000, 0.5, get_total_energy(neighbors, spins))"
   ]
  },
  {
   "cell_type": "code",
   "execution_count": 12,
   "metadata": {},
   "outputs": [
    {
     "data": {
      "image/png": "[encoded data removed]",
      "text/plain": [
       "<Figure size 864x288 with 2 Axes>"
      ]
     },
     "metadata": {
      "needs_background": "light"
     },
     "output_type": "display_data"
    }
   ],
   "source": [
    "fig, axes = plt.subplots(1, 2, figsize=(12,4))\n",
    "ax = axes[0]\n",
    "ax.plot(spins_/N)\n",
    "ax.set_xlabel('Algorithm Time Steps')\n",
    "ax.set_ylabel(r'Average Spin $\\bar{m}$')\n",
    "ax.grid()\n",
    "ax.set_ylim(-1,1)\n",
    "\n",
    "ax = axes[1]\n",
    "ax.plot(energies)\n",
    "ax.set_xlabel('Algorithm Time Steps')\n",
    "ax.set_ylabel(r'Energy $E/J$')\n",
    "ax.grid()\n",
    "fig.tight_layout()\n",
    "fig.suptitle(r'Evolution of Average Spin and Energy for $\\beta J=$0.5', y=1.07, size=18)\n",
    "plt.show()"
   ]
  },
  {
   "cell_type": "code",
   "execution_count": 73,
   "metadata": {},
   "outputs": [],
   "source": [
    "def get_spin_energy(neighbors, spins, BJs):\n",
    "    ms = np.zeros(len(BJs))\n",
    "    E_means = np.zeros(len(BJs))\n",
    "    E_stds = np.zeros(len(BJs))\n",
    "    t_corrs= []\n",
    "    for i, bj in enumerate(BJs):\n",
    "        spins_, energies, corrs= metropolis(neighbors, spins, 100000, bj, get_total_energy(neighbors,spins))\n",
    "        ms[i] = spins_[-100000:].mean()/N\n",
    "        E_means[i] = energies[-100000:].mean()\n",
    "        E_stds[i] = energies[-100000:].std()\n",
    "        t_corrs.append(corrs)\n",
    "    return ms, E_means, E_stds, np.array(t_corrs)\n",
    "\n",
    "BJs = np.arange(0.1, 2.0, 0.05)\n",
    "#BJs= np.arange(0.1, 0.75, 0.05)\n",
    "ms_p, E_means_p, E_stds_p, t_corrs= get_spin_energy(neighbors,spins, BJs)"
   ]
  },
  {
   "cell_type": "code",
   "execution_count": 75,
   "metadata": {},
   "outputs": [
    {
     "data": {
      "image/png": "[encoded data removed]",
      "text/plain": [
       "<Figure size 576x360 with 1 Axes>"
      ]
     },
     "metadata": {
      "needs_background": "light"
     },
     "output_type": "display_data"
    }
   ],
   "source": [
    "plt.figure(figsize=(8,5))\n",
    "plt.plot(1/BJs, ms_p/N, 'o--')\n",
    "plt.xlabel(r'$\\left(\\frac{k}{J}\\right)T$')\n",
    "plt.ylabel(r'$\\bar{m}$')\n",
    "plt.axis([None, None, -0.005, 0.005])\n",
    "plt.show()\n",
    "#plt.savefig(\"isingm.jpg\")"
   ]
  },
  {
   "cell_type": "code",
   "execution_count": 76,
   "metadata": {},
   "outputs": [
    {
     "data": {
      "image/png": "[encoded data removed]",
      "text/plain": [
       "<Figure size 432x288 with 1 Axes>"
      ]
     },
     "metadata": {
      "needs_background": "light"
     },
     "output_type": "display_data"
    }
   ],
   "source": [
    "plt.scatter(1/BJs, E_stds_p*BJs)\n",
    "plt.xlabel(r'$\\left(\\frac{k}{J}\\right)T$')\n",
    "plt.ylabel(r'$C_V / k^2$')\n",
    "plt.show()\n",
    "#plt.savefig(\"ising2d.jpg\")"
   ]
  },
  {
   "cell_type": "markdown",
   "metadata": {},
   "source": [
    "# Correlation function"
   ]
  },
  {
   "cell_type": "code",
   "execution_count": 65,
   "metadata": {},
   "outputs": [],
   "source": [
    "#Correlacion para un spin i, j \n",
    "def correlation_function(corr, i, j):\n",
    "    \n",
    "    si= np.mean(corr[:,i])\n",
    "    sj= np.mean(corr[:,j])\n",
    "    sisj= np.mean(corr[:,i]*corr[:,j])\n",
    "    corr_i= abs(sisj- (si*sj))\n",
    "    \n",
    "    return corr_i"
   ]
  },
  {
   "cell_type": "code",
   "execution_count": 31,
   "metadata": {},
   "outputs": [],
   "source": [
    "#Encontrar menor distancia entre spines\n",
    "#Busqueda de anchura BFS para recorrer grafos.\n",
    "\n",
    "def min_distance(graph, start, end):\n",
    "    # Crea un queue en el que en la que los elementos se agregan y eliminan \n",
    "    #en el mismo orden en el que fueron agregados.\n",
    "    \n",
    "    #Distancia de un vértice a si mismo.\n",
    "    queue = deque([(start, 0)])\n",
    "    \n",
    "    # Guardo los que ya he visitado\n",
    "    visited = set()\n",
    "    \n",
    "    # Iterar hasta vaciar queue\n",
    "    \n",
    "    while queue:\n",
    "        vertex, distance = queue.popleft()\n",
    "        if vertex == end:\n",
    "            return distance\n",
    "    \n",
    "        if vertex in visited:\n",
    "            continue\n",
    "        visited.add(vertex)\n",
    "        \n",
    "        # Añadir vertice a queue\n",
    "        for neighbor in graph[vertex]:\n",
    "            queue.append((neighbor, distance + 1))\n",
    "            \n",
    "    return distance"
   ]
  },
  {
   "cell_type": "code",
   "execution_count": 41,
   "metadata": {},
   "outputs": [],
   "source": [
    "def correlation_distance(corr, neighbors, n):\n",
    "    \n",
    "    #Diferentes distancias de separación\n",
    "    rs = np.arange(1,6,1)\n",
    "    i= np.random.randint(0,N)\n",
    "    corr_=[]\n",
    "    for r in rs:\n",
    "        cond= True\n",
    "        k=0\n",
    "        while cond:\n",
    "            r_= min_distance(neighbors, i, k)\n",
    "            if r == r_:\n",
    "                corr_.append(correlation_function(corr, i, k))\n",
    "                cond= False\n",
    "            k+=1\n",
    "    x= np.log(rs)\n",
    "    y= np.log(corr_)\n",
    "    if n%3 == 0:\n",
    "        plt.plot(rs, corr_, \"o--\", label= r\"$T= {:.2f}$\".format(1/BJs[n]))\n",
    "    plt.legend()\n",
    "    plt.title(\"Correlations\", fontsize=15, fontweight='bold')\n",
    "    plt.xlabel(r\"$r$ (distance)\")\n",
    "    plt.ylabel(\"Correlation function\")\n",
    "    modelo = LinearRegression()\n",
    "    modelo.fit(x.reshape(-1, 1), y)\n",
    "    length= -modelo.coef_ \n",
    "    return length"
   ]
  },
  {
   "cell_type": "markdown",
   "metadata": {},
   "source": [
    "# Correlation length"
   ]
  },
  {
   "cell_type": "code",
   "execution_count": 39,
   "metadata": {},
   "outputs": [],
   "source": [
    "def correlation_length(t_corr):\n",
    "    lengths=[]\n",
    "    #Para cada temperatura\n",
    "    for i in range(len(t_corr)):\n",
    "        l_= correlation_distance(t_corr[i], neighbors, i)\n",
    "        lengths.append(l_)\n",
    "    return lengths"
   ]
  },
  {
   "cell_type": "code",
   "execution_count": 66,
   "metadata": {},
   "outputs": [
    {
     "data": {
      "image/png": "[encoded data removed]",
      "text/plain": [
       "<Figure size 432x288 with 1 Axes>"
      ]
     },
     "metadata": {
      "needs_background": "light"
     },
     "output_type": "display_data"
    }
   ],
   "source": [
    "y= correlation_length(t_corrs)"
   ]
  },
  {
   "cell_type": "code",
   "execution_count": 70,
   "metadata": {},
   "outputs": [
    {
     "data": {
      "text/plain": [
       "<matplotlib.legend.Legend at 0x1a2aebc050>"
      ]
     },
     "execution_count": 70,
     "metadata": {},
     "output_type": "execute_result"
    },
    {
     "data": {
      "image/png": "[encoded data removed]",
      "text/plain": [
       "<Figure size 432x288 with 1 Axes>"
      ]
     },
     "metadata": {
      "needs_background": "light"
     },
     "output_type": "display_data"
    }
   ],
   "source": [
    "BJs_ = np.arange(0.1, 0.7, 0.05)\n",
    "t= lambda x: np.exp(-4*x)\n",
    "epsilon= lambda x: 2**(1/(4*t(x)))\n",
    "plt.plot(1/BJs_, ((0.3)*epsilon(BJs_)), c=\"r\", label= \"Analytic function\")                       \n",
    "plt.scatter(1/BJs, [1/n for n in y], label= \"Simulation data\")\n",
    "plt.title(\"Correlation length\\n\", fontsize=15, fontweight='bold')\n",
    "plt.xlabel(r'$\\left(\\frac{k}{J}\\right)T$')\n",
    "plt.ylabel(r\"$\\xi$\")\n",
    "plt.legend()"
   ]
  },
  {
   "cell_type": "code",
   "execution_count": null,
   "metadata": {},
   "outputs": [],
   "source": []
  }
 ],
 "metadata": {
  "kernelspec": {
   "display_name": "Python 3",
   "language": "python",
   "name": "python3"
  },
  "language_info": {
   "codemirror_mode": {
    "name": "ipython",
    "version": 3
   },
   "file_extension": ".py",
   "mimetype": "text/x-python",
   "name": "python",
   "nbconvert_exporter": "python",
   "pygments_lexer": "ipython3",
   "version": "3.7.4"
  }
 },
 "nbformat": 4,
 "nbformat_minor": 2
}
